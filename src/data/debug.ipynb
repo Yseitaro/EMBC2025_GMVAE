{
 "cells": [
  {
   "cell_type": "code",
   "execution_count": 1,
   "metadata": {},
   "outputs": [],
   "source": [
    "from datamanipulator import DataManipulator"
   ]
  },
  {
   "cell_type": "code",
   "execution_count": null,
   "metadata": {},
   "outputs": [],
   "source": []
  },
  {
   "cell_type": "code",
   "execution_count": null,
   "metadata": {},
   "outputs": [],
   "source": []
  },
  {
   "cell_type": "code",
   "execution_count": 2,
   "metadata": {},
   "outputs": [],
   "source": [
    "data_manipulator = DataManipulator(1,[0])\n",
    "data_manipulator.set_dataset()\n"
   ]
  },
  {
   "cell_type": "code",
   "execution_count": 3,
   "metadata": {},
   "outputs": [],
   "source": [
    "data_manipulator.set_dataloader(30)\n",
    "train_loader = data_manipulator.dataloader"
   ]
  },
  {
   "cell_type": "code",
   "execution_count": 5,
   "metadata": {},
   "outputs": [
    {
     "name": "stdout",
     "output_type": "stream",
     "text": [
      "torch.Size([30, 45, 4])\n",
      "torch.Size([30])\n",
      "torch.int64\n",
      "tensor([[0, 0, 0, 0, 1, 0],\n",
      "        [0, 0, 0, 0, 0, 1],\n",
      "        [1, 0, 0, 0, 0, 0],\n",
      "        [1, 0, 0, 0, 0, 0],\n",
      "        [0, 0, 0, 0, 0, 1],\n",
      "        [0, 0, 0, 1, 0, 0],\n",
      "        [0, 0, 1, 0, 0, 0],\n",
      "        [1, 0, 0, 0, 0, 0],\n",
      "        [0, 0, 0, 0, 1, 0],\n",
      "        [1, 0, 0, 0, 0, 0],\n",
      "        [0, 0, 0, 0, 1, 0],\n",
      "        [0, 1, 0, 0, 0, 0],\n",
      "        [0, 0, 0, 1, 0, 0],\n",
      "        [1, 0, 0, 0, 0, 0],\n",
      "        [0, 1, 0, 0, 0, 0],\n",
      "        [0, 0, 0, 0, 0, 1],\n",
      "        [0, 0, 1, 0, 0, 0],\n",
      "        [0, 1, 0, 0, 0, 0],\n",
      "        [0, 1, 0, 0, 0, 0],\n",
      "        [1, 0, 0, 0, 0, 0],\n",
      "        [0, 0, 0, 0, 0, 1],\n",
      "        [1, 0, 0, 0, 0, 0],\n",
      "        [0, 0, 0, 1, 0, 0],\n",
      "        [0, 1, 0, 0, 0, 0],\n",
      "        [0, 0, 0, 0, 1, 0],\n",
      "        [0, 0, 0, 0, 0, 1],\n",
      "        [0, 0, 0, 0, 1, 0],\n",
      "        [1, 0, 0, 0, 0, 0],\n",
      "        [0, 0, 0, 1, 0, 0],\n",
      "        [0, 0, 1, 0, 0, 0]])\n"
     ]
    }
   ],
   "source": [
    "from torch.nn import functional as F\n",
    "import torch\n",
    "import numpy as np\n",
    "for data, label in train_loader:\n",
    "    break\n",
    "print(data.shape)\n",
    "print(label.shape)\n",
    "# data_b = data.view(data.size(0),-1)\n",
    "# print(data_b.shape)\n",
    "# label_a = label.view(-1).astype(int)\n",
    "\n",
    "# # label_b = torch.Tensor(np.eye(6)[label_a])\n",
    "# print(label_a)\n",
    "\n",
    "# one_test = np.eye(6)[label_a]\n",
    "label = label.to(torch.int64)\n",
    "\n",
    "print(label.dtype)\n",
    "one_hot = F.one_hot(label, num_classes=6)\n",
    "\n",
    "print(one_hot)\n"
   ]
  },
  {
   "cell_type": "code",
   "execution_count": 5,
   "metadata": {},
   "outputs": [
    {
     "name": "stdout",
     "output_type": "stream",
     "text": [
      "tensor([0., 1., 2., 3., 4., 5.])\n"
     ]
    }
   ],
   "source": [
    "a = torch.Tensor([0,1,2,3,4,5])\n",
    "print(a)\n"
   ]
  },
  {
   "cell_type": "code",
   "execution_count": null,
   "metadata": {},
   "outputs": [],
   "source": []
  },
  {
   "cell_type": "code",
   "execution_count": 17,
   "metadata": {},
   "outputs": [
    {
     "ename": "RuntimeError",
     "evalue": "one_hot is only applicable to index tensor.",
     "output_type": "error",
     "traceback": [
      "\u001b[0;31m---------------------------------------------------------------------------\u001b[0m",
      "\u001b[0;31mRuntimeError\u001b[0m                              Traceback (most recent call last)",
      "Cell \u001b[0;32mIn[17], line 1\u001b[0m\n\u001b[0;32m----> 1\u001b[0m \u001b[43mF\u001b[49m\u001b[38;5;241;43m.\u001b[39;49m\u001b[43mone_hot\u001b[49m\u001b[43m(\u001b[49m\u001b[43mlabel_b\u001b[49m\u001b[43m,\u001b[49m\u001b[43m \u001b[49m\u001b[43mnum_classes\u001b[49m\u001b[38;5;241;43m=\u001b[39;49m\u001b[38;5;241;43m6\u001b[39;49m\u001b[43m)\u001b[49m\n",
      "\u001b[0;31mRuntimeError\u001b[0m: one_hot is only applicable to index tensor."
     ]
    }
   ],
   "source": [
    "F.one_hot(label_b, num_classes=6)"
   ]
  },
  {
   "cell_type": "code",
   "execution_count": null,
   "metadata": {},
   "outputs": [],
   "source": []
  },
  {
   "cell_type": "code",
   "execution_count": 11,
   "metadata": {},
   "outputs": [
    {
     "ename": "NameError",
     "evalue": "name 'dataset' is not defined",
     "output_type": "error",
     "traceback": [
      "\u001b[0;31m---------------------------------------------------------------------------\u001b[0m",
      "\u001b[0;31mNameError\u001b[0m                                 Traceback (most recent call last)",
      "Cell \u001b[0;32mIn[11], line 1\u001b[0m\n\u001b[0;32m----> 1\u001b[0m \u001b[43mdataset\u001b[49m\u001b[38;5;241m.\u001b[39md\n",
      "\u001b[0;31mNameError\u001b[0m: name 'dataset' is not defined"
     ]
    }
   ],
   "source": [
    "dataset.d"
   ]
  },
  {
   "cell_type": "code",
   "execution_count": null,
   "metadata": {},
   "outputs": [],
   "source": []
  },
  {
   "cell_type": "code",
   "execution_count": null,
   "metadata": {},
   "outputs": [],
   "source": []
  },
  {
   "cell_type": "code",
   "execution_count": null,
   "metadata": {},
   "outputs": [],
   "source": []
  }
 ],
 "metadata": {
  "kernelspec": {
   "display_name": "cuda_pytorch",
   "language": "python",
   "name": "python3"
  },
  "language_info": {
   "codemirror_mode": {
    "name": "ipython",
    "version": 3
   },
   "file_extension": ".py",
   "mimetype": "text/x-python",
   "name": "python",
   "nbconvert_exporter": "python",
   "pygments_lexer": "ipython3",
   "version": "3.9.0"
  }
 },
 "nbformat": 4,
 "nbformat_minor": 2
}
